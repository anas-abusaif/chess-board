{
 "cells": [
  {
   "cell_type": "code",
   "execution_count": 3,
   "metadata": {},
   "outputs": [],
   "source": [
    "%matplotlib inline\n",
    "import numpy as np\n",
    "import matplotlib.pyplot as plt\n"
   ]
  },
  {
   "cell_type": "code",
   "execution_count": 98,
   "metadata": {},
   "outputs": [
    {
     "data": {
      "image/png": "[encoded data removed]",
      "text/plain": [
       "<Figure size 432x288 with 1 Axes>"
      ]
     },
     "metadata": {
      "needs_background": "light"
     },
     "output_type": "display_data"
    }
   ],
   "source": [
    "class ChessBoard:\n",
    "    def __init__(self):\n",
    "        self.red_cor = []\n",
    "        self.blue_cor = []\n",
    "\n",
    "        self.grid = np.zeros((8, 8, 3))\n",
    "        for row in range(8):\n",
    "            for col in range(8):\n",
    "                if (not col % 2 and not row % 2) or (col % 2 and row % 2):\n",
    "                    self.grid[row, col] = (1, 1, 1)\n",
    "\n",
    "    def render(self):\n",
    "        plt.imshow(self.grid)\n",
    "\n",
    "    def add_red(self, row, col):\n",
    "        self.grid[row, col] = [1, 0.2, 0]\n",
    "        self.red_cor = [row, col]\n",
    "\n",
    "    def add_blue(self, row, col):\n",
    "        self.grid[row, col] = [0, 1, 1]\n",
    "        self.blue_cor = [row, col]\n",
    "\n",
    "    def is_under_attack(self):\n",
    "        if self.blue_cor[0] == self.red_cor[0] or self.blue_cor[1] == self.red_cor[1]:\n",
    "            return True\n",
    "        if abs(self.blue_cor[0] - self.red_cor[0]) == abs(self.blue_cor[1] - self.red_cor[1]):\n",
    "            return True\n",
    "        return False\n",
    "\n",
    "\n",
    "board = ChessBoard()\n",
    "board.render()\n"
   ]
  },
  {
   "cell_type": "code",
   "execution_count": 100,
   "metadata": {},
   "outputs": [
    {
     "data": {
      "image/png": "[encoded data removed]",
      "text/plain": [
       "<Figure size 432x288 with 1 Axes>"
      ]
     },
     "metadata": {
      "needs_background": "light"
     },
     "output_type": "display_data"
    }
   ],
   "source": [
    "def test_queens_same_row():\n",
    "  # Arrange\n",
    "  board1=ChessBoard()\n",
    "  expected=True\n",
    "  board1.add_blue(5,4)\n",
    "  board1.add_red(5,7)\n",
    "  # Act\n",
    "  actual=board1.is_under_attack()\n",
    "  # Assert\n",
    "  board1.render()\n",
    "  assert expected==actual\n",
    "\n",
    "test_queens_same_row()\n"
   ]
  },
  {
   "cell_type": "code",
   "execution_count": 101,
   "metadata": {},
   "outputs": [
    {
     "data": {
      "image/png": "[encoded data removed]",
      "text/plain": [
       "<Figure size 432x288 with 1 Axes>"
      ]
     },
     "metadata": {
      "needs_background": "light"
     },
     "output_type": "display_data"
    }
   ],
   "source": [
    "def test_queens_same_col():\n",
    "  # Arrange\n",
    "  board2=ChessBoard()\n",
    "  expected=True\n",
    "  board2.add_blue(3,7)\n",
    "  board2.add_red(5,7)\n",
    "  # Act\n",
    "  actual=board2.is_under_attack()\n",
    "  # Assert\n",
    "  board2.render()\n",
    "  assert expected==actual\n",
    "\n",
    "test_queens_same_col()\n"
   ]
  },
  {
   "cell_type": "code",
   "execution_count": 103,
   "metadata": {},
   "outputs": [
    {
     "data": {
      "image/png": "[encoded data removed]",
      "text/plain": [
       "<Figure size 432x288 with 1 Axes>"
      ]
     },
     "metadata": {
      "needs_background": "light"
     },
     "output_type": "display_data"
    }
   ],
   "source": [
    "def test_queens_same_diagonal():\n",
    "  # Arrange\n",
    "  board3=ChessBoard()\n",
    "  expected=True\n",
    "  board3.add_blue(3,7)\n",
    "  board3.add_red(6,4)\n",
    "  # Act\n",
    "  actual=board3.is_under_attack()\n",
    "  # Assert\n",
    "  board3.render()\n",
    "  assert expected==actual\n",
    "\n",
    "test_queens_same_diagonal()\n"
   ]
  },
  {
   "cell_type": "code",
   "execution_count": 105,
   "metadata": {},
   "outputs": [
    {
     "data": {
      "image/png": "[encoded data removed]",
      "text/plain": [
       "<Figure size 432x288 with 1 Axes>"
      ]
     },
     "metadata": {
      "needs_background": "light"
     },
     "output_type": "display_data"
    }
   ],
   "source": [
    "def test_queens_other():\n",
    "  # Arrange\n",
    "  board3=ChessBoard()\n",
    "  expected=False\n",
    "  board3.add_blue(2,6)\n",
    "  board3.add_red(6,4)\n",
    "  # Act\n",
    "  actual=board3.is_under_attack()\n",
    "  # Assert\n",
    "  board3.render()\n",
    "  assert expected==actual\n",
    "\n",
    "test_queens_other()\n"
   ]
  }
 ],
 "metadata": {
  "interpreter": {
   "hash": "a4b313944e973a8a7e21f5444cd1bb0d8505060ce2cf1d5a08f334037763fff5"
  },
  "kernelspec": {
   "display_name": "Python 3.9.5 64-bit ('.venv': poetry)",
   "name": "python3"
  },
  "language_info": {
   "codemirror_mode": {
    "name": "ipython",
    "version": 3
   },
   "file_extension": ".py",
   "mimetype": "text/x-python",
   "name": "python",
   "nbconvert_exporter": "python",
   "pygments_lexer": "ipython3",
   "version": "3.9.5"
  },
  "orig_nbformat": 4
 },
 "nbformat": 4,
 "nbformat_minor": 2
}
