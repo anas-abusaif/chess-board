{
 "cells": [
  {
   "cell_type": "code",
   "execution_count": null,
   "metadata": {},
   "outputs": [],
   "source": [
    "print('asd')"
   ]
  }
 ],
 "metadata": {
  "interpreter": {
   "hash": "a4b313944e973a8a7e21f5444cd1bb0d8505060ce2cf1d5a08f334037763fff5"
  },
  "kernelspec": {
   "display_name": "Python 3.9.5 64-bit ('.venv': poetry)",
   "name": "python3"
  },
  "language_info": {
   "name": "python",
   "version": "3.9.5"
  },
  "orig_nbformat": 4
 },
 "nbformat": 4,
 "nbformat_minor": 2
}
